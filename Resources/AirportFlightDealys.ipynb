{
 "cells": [
  {
   "cell_type": "code",
   "execution_count": 2,
   "metadata": {
    "collapsed": true
   },
   "outputs": [],
   "source": [
    "import unicodecsv\n",
    "import pandas as pd\n",
    "import numpy as np\n",
    "import matplotlib.pyplot as plt\n",
    "import seaborn as sns\n",
    "import datetime as dt\n",
    "from scipy import stats\n",
    "from scipy.stats import norm\n",
    "\n",
    "pd.options.display.float_format = '{:.0f}'.format"
   ]
  },
  {
   "cell_type": "code",
   "execution_count": 3,
   "metadata": {},
   "outputs": [
    {
     "data": {
      "text/plain": [
       "103361"
      ]
     },
     "execution_count": 3,
     "metadata": {},
     "output_type": "execute_result"
    }
   ],
   "source": [
    "flights = pd.read_csv(\"73515083_102017_2041_airline_delay_causes.csv\")\n",
    "\n",
    "len(flights)"
   ]
  },
  {
   "cell_type": "code",
   "execution_count": 4,
   "metadata": {},
   "outputs": [
    {
     "data": {
      "text/plain": [
       "Index(['year', ' month', 'carrier', 'carrier_name', 'airport', 'airport_name',\n",
       "       'arr_flights', 'arr_del15', 'carrier_ct', ' weather_ct', 'nas_ct',\n",
       "       'security_ct', 'late_aircraft_ct', 'arr_cancelled', 'arr_diverted',\n",
       "       ' arr_delay', ' carrier_delay', 'weather_delay', 'nas_delay',\n",
       "       'security_delay', 'late_aircraft_delay', 'Unnamed: 21'],\n",
       "      dtype='object')"
      ]
     },
     "execution_count": 4,
     "metadata": {},
     "output_type": "execute_result"
    }
   ],
   "source": [
    "flights.columns"
   ]
  },
  {
   "cell_type": "code",
   "execution_count": 5,
   "metadata": {},
   "outputs": [
    {
     "name": "stdout",
     "output_type": "stream",
     "text": [
      "<class 'pandas.core.frame.DataFrame'>\n",
      "RangeIndex: 103361 entries, 0 to 103360\n",
      "Data columns (total 22 columns):\n",
      "year                   103361 non-null int64\n",
      " month                 103361 non-null int64\n",
      "carrier                103361 non-null object\n",
      "carrier_name           103361 non-null object\n",
      "airport                103361 non-null object\n",
      "airport_name           103361 non-null object\n",
      "arr_flights            103240 non-null float64\n",
      "arr_del15              103220 non-null float64\n",
      "carrier_ct             103240 non-null float64\n",
      " weather_ct            103240 non-null float64\n",
      "nas_ct                 103240 non-null float64\n",
      "security_ct            103240 non-null float64\n",
      "late_aircraft_ct       103240 non-null float64\n",
      "arr_cancelled          103240 non-null float64\n",
      "arr_diverted           103240 non-null float64\n",
      " arr_delay             103240 non-null float64\n",
      " carrier_delay         103240 non-null float64\n",
      "weather_delay          103240 non-null float64\n",
      "nas_delay              103240 non-null float64\n",
      "security_delay         103240 non-null float64\n",
      "late_aircraft_delay    103240 non-null float64\n",
      "Unnamed: 21            0 non-null float64\n",
      "dtypes: float64(16), int64(2), object(4)\n",
      "memory usage: 17.3+ MB\n"
     ]
    }
   ],
   "source": [
    "flights.info()\n",
    "\n",
    "flights[\"carrier\"] = flights[\"carrier\"].astype(\"category\")\n",
    "flights[\"carrier_name\"] = flights[\"carrier_name\"].astype(\"category\")\n",
    "flights[\"airport\"] = flights[\"airport\"].astype(\"category\")\n",
    "flights[\"airport_name\"] = flights[\"airport_name\"].astype(\"category\")"
   ]
  },
  {
   "cell_type": "code",
   "execution_count": 6,
   "metadata": {
    "collapsed": true
   },
   "outputs": [],
   "source": [
    "#flights.drop([' arr_delay'], axis=1, inplace=True)\n",
    "#flights.drop([' carrier_delay'], axis=1, inplace=True)\n",
    "#flights.drop(['weather_delay'], axis=1, inplace=True)\n",
    "#flights.drop(['nas_delay'], axis=1, inplace=True)\n",
    "#flights.drop(['security_delay'], axis=1, inplace=True)\n",
    "#flights.drop(['late_aircraft_delay'], axis=1, inplace=True)"
   ]
  },
  {
   "cell_type": "code",
   "execution_count": 7,
   "metadata": {},
   "outputs": [
    {
     "name": "stdout",
     "output_type": "stream",
     "text": [
      "<class 'pandas.core.frame.DataFrame'>\n",
      "RangeIndex: 103361 entries, 0 to 103360\n",
      "Data columns (total 22 columns):\n",
      "year                   103361 non-null int64\n",
      " month                 103361 non-null int64\n",
      "carrier                103361 non-null category\n",
      "carrier_name           103361 non-null category\n",
      "airport                103361 non-null category\n",
      "airport_name           103361 non-null category\n",
      "arr_flights            103240 non-null float64\n",
      "arr_del15              103220 non-null float64\n",
      "carrier_ct             103240 non-null float64\n",
      " weather_ct            103240 non-null float64\n",
      "nas_ct                 103240 non-null float64\n",
      "security_ct            103240 non-null float64\n",
      "late_aircraft_ct       103240 non-null float64\n",
      "arr_cancelled          103240 non-null float64\n",
      "arr_diverted           103240 non-null float64\n",
      " arr_delay             103240 non-null float64\n",
      " carrier_delay         103240 non-null float64\n",
      "weather_delay          103240 non-null float64\n",
      "nas_delay              103240 non-null float64\n",
      "security_delay         103240 non-null float64\n",
      "late_aircraft_delay    103240 non-null float64\n",
      "Unnamed: 21            0 non-null float64\n",
      "dtypes: category(4), float64(16), int64(2)\n",
      "memory usage: 14.8 MB\n"
     ]
    }
   ],
   "source": [
    "flights.info()"
   ]
  },
  {
   "cell_type": "code",
   "execution_count": 8,
   "metadata": {
    "collapsed": true
   },
   "outputs": [],
   "source": [
    "flights = flights.rename(columns={' month': 'Month', 'arr_del15': 'Arrival_Delay', 'carrier_ct':'Carrier_Delay', ' weather_ct': 'Weather_Delay',\n",
    "                        'nas_ct': 'NAS_Delay', 'security_ct': \"Security_Delays\", 'late_aircraft_ct': 'Late_Aircraft_Delay', \n",
    "                        'arr_cancelled': 'Cancelled', 'arr_diverted': 'Diverted',\n",
    "                        'year': 'Year'\n",
    "                       }\n",
    "              )"
   ]
  },
  {
   "cell_type": "code",
   "execution_count": 9,
   "metadata": {
    "collapsed": true
   },
   "outputs": [],
   "source": [
    "flights = flights.rename(columns={'Security_Delays' :\"Security_Delay\"})"
   ]
  },
  {
   "cell_type": "code",
   "execution_count": 11,
   "metadata": {},
   "outputs": [],
   "source": [
    "flights.to_csv('reformed_data.csv', encoding='utf-8', index=False)"
   ]
  },
  {
   "cell_type": "code",
   "execution_count": null,
   "metadata": {
    "collapsed": true
   },
   "outputs": [],
   "source": []
  }
 ],
 "metadata": {
  "kernelspec": {
   "display_name": "Python 3",
   "language": "python",
   "name": "python3"
  },
  "language_info": {
   "codemirror_mode": {
    "name": "ipython",
    "version": 3
   },
   "file_extension": ".py",
   "mimetype": "text/x-python",
   "name": "python",
   "nbconvert_exporter": "python",
   "pygments_lexer": "ipython3",
   "version": "3.6.3"
  }
 },
 "nbformat": 4,
 "nbformat_minor": 2
}
