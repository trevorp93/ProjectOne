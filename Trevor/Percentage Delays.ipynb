{
 "cells": [
  {
   "cell_type": "code",
   "execution_count": 3,
   "metadata": {
    "collapsed": true
   },
   "outputs": [],
   "source": [
    "import unicodecsv\n",
    "import pandas as pd\n",
    "import numpy as np\n",
    "import matplotlib.pyplot as plt\n",
    "import seaborn as sns\n",
    "import datetime as dt\n",
    "from scipy import stats\n",
    "from scipy.stats import norm\n",
    "\n",
    "pd.options.display.float_format = '{:.0f}'.format"
   ]
  },
  {
   "cell_type": "code",
   "execution_count": 4,
   "metadata": {},
   "outputs": [
    {
     "data": {
      "text/html": [
       "<div>\n",
       "<style>\n",
       "    .dataframe thead tr:only-child th {\n",
       "        text-align: right;\n",
       "    }\n",
       "\n",
       "    .dataframe thead th {\n",
       "        text-align: left;\n",
       "    }\n",
       "\n",
       "    .dataframe tbody tr th {\n",
       "        vertical-align: top;\n",
       "    }\n",
       "</style>\n",
       "<table border=\"1\" class=\"dataframe\">\n",
       "  <thead>\n",
       "    <tr style=\"text-align: right;\">\n",
       "      <th></th>\n",
       "      <th>Year</th>\n",
       "      <th>Month</th>\n",
       "      <th>carrier</th>\n",
       "      <th>carrier_name</th>\n",
       "      <th>airport</th>\n",
       "      <th>airport_name</th>\n",
       "      <th>arr_flights</th>\n",
       "      <th>Arrival_Delay</th>\n",
       "      <th>Carrier_Delay</th>\n",
       "      <th>Weather_Delay</th>\n",
       "      <th>NAS_Delay</th>\n",
       "      <th>Security_Delay</th>\n",
       "      <th>Late_Aircraft_Delay</th>\n",
       "      <th>Cancelled</th>\n",
       "      <th>Diverted</th>\n",
       "      <th>Unnamed: 21</th>\n",
       "      <th>Total Percentage Delayed</th>\n",
       "      <th>Carrier Delay %</th>\n",
       "      <th>Weather Delay %</th>\n",
       "    </tr>\n",
       "  </thead>\n",
       "  <tbody>\n",
       "    <tr>\n",
       "      <th>0</th>\n",
       "      <td>2010</td>\n",
       "      <td>1</td>\n",
       "      <td>9E</td>\n",
       "      <td>Pinnacle Airlines Inc.</td>\n",
       "      <td>ABE</td>\n",
       "      <td>Allentown/Bethlehem/Easton, PA: Lehigh Valley ...</td>\n",
       "      <td>65</td>\n",
       "      <td>16</td>\n",
       "      <td>5</td>\n",
       "      <td>0</td>\n",
       "      <td>11</td>\n",
       "      <td>0</td>\n",
       "      <td>0</td>\n",
       "      <td>1</td>\n",
       "      <td>0</td>\n",
       "      <td>nan</td>\n",
       "      <td>25</td>\n",
       "      <td>8</td>\n",
       "      <td>0</td>\n",
       "    </tr>\n",
       "    <tr>\n",
       "      <th>1</th>\n",
       "      <td>2010</td>\n",
       "      <td>1</td>\n",
       "      <td>9E</td>\n",
       "      <td>Pinnacle Airlines Inc.</td>\n",
       "      <td>AEX</td>\n",
       "      <td>Alexandria, LA: Alexandria International</td>\n",
       "      <td>60</td>\n",
       "      <td>17</td>\n",
       "      <td>5</td>\n",
       "      <td>0</td>\n",
       "      <td>8</td>\n",
       "      <td>0</td>\n",
       "      <td>4</td>\n",
       "      <td>4</td>\n",
       "      <td>0</td>\n",
       "      <td>nan</td>\n",
       "      <td>28</td>\n",
       "      <td>8</td>\n",
       "      <td>1</td>\n",
       "    </tr>\n",
       "    <tr>\n",
       "      <th>2</th>\n",
       "      <td>2010</td>\n",
       "      <td>1</td>\n",
       "      <td>9E</td>\n",
       "      <td>Pinnacle Airlines Inc.</td>\n",
       "      <td>ALB</td>\n",
       "      <td>Albany, NY: Albany International</td>\n",
       "      <td>81</td>\n",
       "      <td>34</td>\n",
       "      <td>10</td>\n",
       "      <td>1</td>\n",
       "      <td>20</td>\n",
       "      <td>0</td>\n",
       "      <td>3</td>\n",
       "      <td>1</td>\n",
       "      <td>1</td>\n",
       "      <td>nan</td>\n",
       "      <td>42</td>\n",
       "      <td>12</td>\n",
       "      <td>2</td>\n",
       "    </tr>\n",
       "    <tr>\n",
       "      <th>3</th>\n",
       "      <td>2010</td>\n",
       "      <td>1</td>\n",
       "      <td>9E</td>\n",
       "      <td>Pinnacle Airlines Inc.</td>\n",
       "      <td>ALO</td>\n",
       "      <td>Waterloo, IA: Waterloo Regional</td>\n",
       "      <td>3</td>\n",
       "      <td>1</td>\n",
       "      <td>0</td>\n",
       "      <td>0</td>\n",
       "      <td>1</td>\n",
       "      <td>0</td>\n",
       "      <td>0</td>\n",
       "      <td>0</td>\n",
       "      <td>0</td>\n",
       "      <td>nan</td>\n",
       "      <td>33</td>\n",
       "      <td>0</td>\n",
       "      <td>0</td>\n",
       "    </tr>\n",
       "    <tr>\n",
       "      <th>4</th>\n",
       "      <td>2010</td>\n",
       "      <td>1</td>\n",
       "      <td>9E</td>\n",
       "      <td>Pinnacle Airlines Inc.</td>\n",
       "      <td>ATL</td>\n",
       "      <td>Atlanta, GA: Hartsfield-Jackson Atlanta Intern...</td>\n",
       "      <td>1067</td>\n",
       "      <td>271</td>\n",
       "      <td>43</td>\n",
       "      <td>9</td>\n",
       "      <td>156</td>\n",
       "      <td>0</td>\n",
       "      <td>63</td>\n",
       "      <td>46</td>\n",
       "      <td>4</td>\n",
       "      <td>nan</td>\n",
       "      <td>25</td>\n",
       "      <td>4</td>\n",
       "      <td>1</td>\n",
       "    </tr>\n",
       "  </tbody>\n",
       "</table>\n",
       "</div>"
      ],
      "text/plain": [
       "   Year  Month carrier            carrier_name airport  \\\n",
       "0  2010      1      9E  Pinnacle Airlines Inc.     ABE   \n",
       "1  2010      1      9E  Pinnacle Airlines Inc.     AEX   \n",
       "2  2010      1      9E  Pinnacle Airlines Inc.     ALB   \n",
       "3  2010      1      9E  Pinnacle Airlines Inc.     ALO   \n",
       "4  2010      1      9E  Pinnacle Airlines Inc.     ATL   \n",
       "\n",
       "                                        airport_name  arr_flights  \\\n",
       "0  Allentown/Bethlehem/Easton, PA: Lehigh Valley ...           65   \n",
       "1           Alexandria, LA: Alexandria International           60   \n",
       "2                   Albany, NY: Albany International           81   \n",
       "3                    Waterloo, IA: Waterloo Regional            3   \n",
       "4  Atlanta, GA: Hartsfield-Jackson Atlanta Intern...         1067   \n",
       "\n",
       "   Arrival_Delay  Carrier_Delay  Weather_Delay  NAS_Delay  Security_Delay  \\\n",
       "0             16              5              0         11               0   \n",
       "1             17              5              0          8               0   \n",
       "2             34             10              1         20               0   \n",
       "3              1              0              0          1               0   \n",
       "4            271             43              9        156               0   \n",
       "\n",
       "   Late_Aircraft_Delay  Cancelled  Diverted  Unnamed: 21  \\\n",
       "0                    0          1         0          nan   \n",
       "1                    4          4         0          nan   \n",
       "2                    3          1         1          nan   \n",
       "3                    0          0         0          nan   \n",
       "4                   63         46         4          nan   \n",
       "\n",
       "   Total Percentage Delayed  Carrier Delay %  Weather Delay %  \n",
       "0                        25                8                0  \n",
       "1                        28                8                1  \n",
       "2                        42               12                2  \n",
       "3                        33                0                0  \n",
       "4                        25                4                1  "
      ]
     },
     "execution_count": 4,
     "metadata": {},
     "output_type": "execute_result"
    }
   ],
   "source": [
    "file = 'Resources/reformed_data.csv'\n",
    "df = pd.read_csv(file, encoding=\"iso-8859-1\", low_memory=False)\n",
    "df.head()\n",
    "\n",
    "df['Total Percentage Delayed'] = df['Arrival_Delay']/df['arr_flights']* 100\n",
    "df['Carrier Delay %'] = df['Carrier_Delay']/df['arr_flights']* 100\n",
    "df['Weather Delay %'] = df['Weather_Delay']/df['arr_flights']* 100\n",
    "df.head()"
   ]
  },
  {
   "cell_type": "code",
   "execution_count": 5,
   "metadata": {},
   "outputs": [
    {
     "data": {
      "text/plain": [
       "array(['Pinnacle Airlines Inc.', 'American Airlines Inc.',\n",
       "       'Alaska Airlines Inc.', 'JetBlue Airways',\n",
       "       'Continental Air Lines Inc.', 'Delta Air Lines Inc.',\n",
       "       'Atlantic Southeast Airlines', 'Frontier Airlines Inc.',\n",
       "       'AirTran Airways Corporation', 'Hawaiian Airlines Inc.',\n",
       "       'American Eagle Airlines Inc.', 'Comair Inc.',\n",
       "       'SkyWest Airlines Inc.', 'United Air Lines Inc.', 'US Airways Inc.',\n",
       "       'Southwest Airlines Co.', 'ExpressJet Airlines Inc.',\n",
       "       'Mesa Airlines Inc.', 'Virgin America', 'Endeavor Air Inc.',\n",
       "       'Envoy Air', 'Spirit Air Lines'], dtype=object)"
      ]
     },
     "execution_count": 5,
     "metadata": {},
     "output_type": "execute_result"
    }
   ],
   "source": [
    "df['carrier_name'].unique()"
   ]
  },
  {
   "cell_type": "code",
   "execution_count": 6,
   "metadata": {
    "collapsed": true
   },
   "outputs": [],
   "source": [
    "Cdf = df[['carrier_name','Year','arr_flights','Arrival_Delay','Carrier_Delay','Weather_Delay','Total Percentage Delayed','Carrier Delay %','Weather Delay %']]\n"
   ]
  },
  {
   "cell_type": "code",
   "execution_count": 7,
   "metadata": {},
   "outputs": [
    {
     "ename": "NameError",
     "evalue": "name 'At' is not defined",
     "output_type": "error",
     "traceback": [
      "\u001b[1;31m---------------------------------------------------------------------------\u001b[0m",
      "\u001b[1;31mNameError\u001b[0m                                 Traceback (most recent call last)",
      "\u001b[1;32m<ipython-input-7-da54ce815141>\u001b[0m in \u001b[0;36m<module>\u001b[1;34m()\u001b[0m\n\u001b[1;32m----> 1\u001b[1;33m \u001b[0mAt\u001b[0m\u001b[1;33m.\u001b[0m\u001b[0mhead\u001b[0m\u001b[1;33m(\u001b[0m\u001b[1;33m)\u001b[0m\u001b[1;33m\u001b[0m\u001b[0m\n\u001b[0m",
      "\u001b[1;31mNameError\u001b[0m: name 'At' is not defined"
     ]
    }
   ],
   "source": [
    "At.head()"
   ]
  },
  {
   "cell_type": "code",
   "execution_count": 8,
   "metadata": {},
   "outputs": [
    {
     "data": {
      "image/png": "[encoded data removed]",
      "text/plain": [
       "<matplotlib.figure.Figure at 0x22021662f28>"
      ]
     },
     "metadata": {},
     "output_type": "display_data"
    }
   ],
   "source": [
    "At = Cdf.groupby(['carrier_name']).mean().reset_index()\n",
    "A= At.sort_values(by ='arr_flights',ascending=False).reset_index()\n",
    "ax = sns.barplot(x=\"Total Percentage Delayed\", y=\"carrier_name\", data=A)\n",
    "plt.show()\n"
   ]
  },
  {
   "cell_type": "code",
   "execution_count": 9,
   "metadata": {},
   "outputs": [
    {
     "data": {
      "image/png": "[encoded data removed]",
      "text/plain": [
       "<matplotlib.figure.Figure at 0x22021662e10>"
      ]
     },
     "metadata": {},
     "output_type": "display_data"
    }
   ],
   "source": [
    "ax = sns.barplot(x=\"Carrier Delay %\", y=\"carrier_name\", data=A)\n",
    "plt.show()"
   ]
  },
  {
   "cell_type": "code",
   "execution_count": 10,
   "metadata": {},
   "outputs": [
    {
     "data": {
      "image/png": "[encoded data removed]",
      "text/plain": [
       "<matplotlib.figure.Figure at 0x22021e4aac8>"
      ]
     },
     "metadata": {},
     "output_type": "display_data"
    }
   ],
   "source": [
    "ax = sns.barplot(x=\"Weather Delay %\", y=\"carrier_name\", data=A)\n",
    "plt.show()"
   ]
  },
  {
   "cell_type": "code",
   "execution_count": 13,
   "metadata": {},
   "outputs": [
    {
     "data": {
      "text/html": [
       "<div>\n",
       "<style>\n",
       "    .dataframe thead tr:only-child th {\n",
       "        text-align: right;\n",
       "    }\n",
       "\n",
       "    .dataframe thead th {\n",
       "        text-align: left;\n",
       "    }\n",
       "\n",
       "    .dataframe tbody tr th {\n",
       "        vertical-align: top;\n",
       "    }\n",
       "</style>\n",
       "<table border=\"1\" class=\"dataframe\">\n",
       "  <thead>\n",
       "    <tr style=\"text-align: right;\">\n",
       "      <th></th>\n",
       "      <th>index</th>\n",
       "      <th>carrier_name</th>\n",
       "      <th>Year</th>\n",
       "      <th>arr_flights</th>\n",
       "      <th>Arrival_Delay</th>\n",
       "      <th>Carrier_Delay</th>\n",
       "      <th>Weather_Delay</th>\n",
       "      <th>Total Percentage Delayed</th>\n",
       "      <th>Carrier Delay %</th>\n",
       "      <th>Weather Delay %</th>\n",
       "    </tr>\n",
       "  </thead>\n",
       "  <tbody>\n",
       "    <tr>\n",
       "      <th>0</th>\n",
       "      <td>17</td>\n",
       "      <td>Southwest Airlines Co.</td>\n",
       "      <td>2013</td>\n",
       "      <td>1235</td>\n",
       "      <td>241</td>\n",
       "      <td>72</td>\n",
       "      <td>6</td>\n",
       "      <td>21</td>\n",
       "      <td>7</td>\n",
       "      <td>1</td>\n",
       "    </tr>\n",
       "    <tr>\n",
       "      <th>1</th>\n",
       "      <td>2</td>\n",
       "      <td>American Airlines Inc.</td>\n",
       "      <td>2013</td>\n",
       "      <td>624</td>\n",
       "      <td>122</td>\n",
       "      <td>38</td>\n",
       "      <td>5</td>\n",
       "      <td>22</td>\n",
       "      <td>9</td>\n",
       "      <td>1</td>\n",
       "    </tr>\n",
       "    <tr>\n",
       "      <th>2</th>\n",
       "      <td>7</td>\n",
       "      <td>Delta Air Lines Inc.</td>\n",
       "      <td>2013</td>\n",
       "      <td>503</td>\n",
       "      <td>76</td>\n",
       "      <td>24</td>\n",
       "      <td>3</td>\n",
       "      <td>15</td>\n",
       "      <td>6</td>\n",
       "      <td>1</td>\n",
       "    </tr>\n",
       "    <tr>\n",
       "      <th>3</th>\n",
       "      <td>20</td>\n",
       "      <td>United Air Lines Inc.</td>\n",
       "      <td>2013</td>\n",
       "      <td>496</td>\n",
       "      <td>95</td>\n",
       "      <td>30</td>\n",
       "      <td>3</td>\n",
       "      <td>20</td>\n",
       "      <td>7</td>\n",
       "      <td>1</td>\n",
       "    </tr>\n",
       "    <tr>\n",
       "      <th>4</th>\n",
       "      <td>19</td>\n",
       "      <td>US Airways Inc.</td>\n",
       "      <td>2012</td>\n",
       "      <td>449</td>\n",
       "      <td>74</td>\n",
       "      <td>22</td>\n",
       "      <td>1</td>\n",
       "      <td>17</td>\n",
       "      <td>6</td>\n",
       "      <td>0</td>\n",
       "    </tr>\n",
       "  </tbody>\n",
       "</table>\n",
       "</div>"
      ],
      "text/plain": [
       "   index            carrier_name  Year  arr_flights  Arrival_Delay  \\\n",
       "0     17  Southwest Airlines Co.  2013         1235            241   \n",
       "1      2  American Airlines Inc.  2013          624            122   \n",
       "2      7    Delta Air Lines Inc.  2013          503             76   \n",
       "3     20   United Air Lines Inc.  2013          496             95   \n",
       "4     19         US Airways Inc.  2012          449             74   \n",
       "\n",
       "   Carrier_Delay  Weather_Delay  Total Percentage Delayed  Carrier Delay %  \\\n",
       "0             72              6                        21                7   \n",
       "1             38              5                        22                9   \n",
       "2             24              3                        15                6   \n",
       "3             30              3                        20                7   \n",
       "4             22              1                        17                6   \n",
       "\n",
       "   Weather Delay %  \n",
       "0                1  \n",
       "1                1  \n",
       "2                1  \n",
       "3                1  \n",
       "4                0  "
      ]
     },
     "execution_count": 13,
     "metadata": {},
     "output_type": "execute_result"
    }
   ],
   "source": [
    "A.head()"
   ]
  },
  {
   "cell_type": "code",
   "execution_count": 19,
   "metadata": {},
   "outputs": [
    {
     "data": {
      "text/html": [
       "<div>\n",
       "<style>\n",
       "    .dataframe thead tr:only-child th {\n",
       "        text-align: right;\n",
       "    }\n",
       "\n",
       "    .dataframe thead th {\n",
       "        text-align: left;\n",
       "    }\n",
       "\n",
       "    .dataframe tbody tr th {\n",
       "        vertical-align: top;\n",
       "    }\n",
       "</style>\n",
       "<table border=\"1\" class=\"dataframe\">\n",
       "  <thead>\n",
       "    <tr style=\"text-align: right;\">\n",
       "      <th></th>\n",
       "      <th>index</th>\n",
       "      <th>carrier_name</th>\n",
       "      <th>Year</th>\n",
       "      <th>arr_flights</th>\n",
       "      <th>Arrival_Delay</th>\n",
       "      <th>Carrier_Delay</th>\n",
       "      <th>Weather_Delay</th>\n",
       "      <th>Total Percentage Delayed</th>\n",
       "      <th>Carrier Delay %</th>\n",
       "      <th>Weather Delay %</th>\n",
       "    </tr>\n",
       "  </thead>\n",
       "  <tbody>\n",
       "    <tr>\n",
       "      <th>9</th>\n",
       "      <td>18</td>\n",
       "      <td>Spirit Air Lines</td>\n",
       "      <td>2016</td>\n",
       "      <td>316</td>\n",
       "      <td>83</td>\n",
       "      <td>16</td>\n",
       "      <td>1</td>\n",
       "      <td>26</td>\n",
       "      <td>6</td>\n",
       "      <td>0</td>\n",
       "    </tr>\n",
       "  </tbody>\n",
       "</table>\n",
       "</div>"
      ],
      "text/plain": [
       "   index      carrier_name  Year  arr_flights  Arrival_Delay  Carrier_Delay  \\\n",
       "9     18  Spirit Air Lines  2016          316             83             16   \n",
       "\n",
       "   Weather_Delay  Total Percentage Delayed  Carrier Delay %  Weather Delay %  \n",
       "9              1                        26                6                0  "
      ]
     },
     "execution_count": 19,
     "metadata": {},
     "output_type": "execute_result"
    }
   ],
   "source": [
    "Spirit = A['carrier_name'] == \"Spirit Air Lines\"\n",
    "A[Spirit]"
   ]
  },
  {
   "cell_type": "code",
   "execution_count": null,
   "metadata": {
    "collapsed": true
   },
   "outputs": [],
   "source": []
  },
  {
   "cell_type": "code",
   "execution_count": null,
   "metadata": {
    "collapsed": true
   },
   "outputs": [],
   "source": []
  }
 ],
 "metadata": {
  "kernelspec": {
   "display_name": "Python 3",
   "language": "python",
   "name": "python3"
  },
  "language_info": {
   "codemirror_mode": {
    "name": "ipython",
    "version": 3
   },
   "file_extension": ".py",
   "mimetype": "text/x-python",
   "name": "python",
   "nbconvert_exporter": "python",
   "pygments_lexer": "ipython3",
   "version": "3.6.3"
  }
 },
 "nbformat": 4,
 "nbformat_minor": 2
}
